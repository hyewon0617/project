{
 "cells": [
  {
   "cell_type": "code",
   "execution_count": 2,
   "metadata": {},
   "outputs": [
    {
     "name": "stdout",
     "output_type": "stream",
     "text": [
      "D:\\junghyewon\\R\\star\\3\\199.jpg\n"
     ]
    }
   ],
   "source": [
    "# 폴더이름 한번에 바꾸기\n",
    "\n",
    "import os\n",
    "\n",
    "file_path = 'D:\\\\junghyewon\\\\R\\\\star\\\\3'\n",
    "file_names = os.listdir(file_path)\n",
    "file_names\n",
    "\n",
    "\n",
    "i = 0\n",
    "for name in file_names:\n",
    "    src = os.path.join(file_path, name)\n",
    "    dst = str(\"{}.jpg\".format(i))\n",
    "    dst = os.path.join(file_path, dst)\n",
    "    os.rename(src, dst)\n",
    "    i += 1\n",
    "    \n",
    "    \n",
    "print(dst)"
   ]
  },
  {
   "cell_type": "code",
   "execution_count": 3,
   "metadata": {},
   "outputs": [
    {
     "ename": "error",
     "evalue": "OpenCV(4.2.0) C:\\projects\\opencv-python\\opencv\\modules\\imgproc\\src\\color.cpp:182: error: (-215:Assertion failed) !_src.empty() in function 'cv::cvtColor'\n",
     "output_type": "error",
     "traceback": [
      "\u001b[1;31m---------------------------------------------------------------------------\u001b[0m",
      "\u001b[1;31merror\u001b[0m                                     Traceback (most recent call last)",
      "\u001b[1;32m<ipython-input-3-8d2d820cd2e7>\u001b[0m in \u001b[0;36m<module>\u001b[1;34m\u001b[0m\n\u001b[0;32m     16\u001b[0m     \u001b[0mimage\u001b[0m \u001b[1;33m=\u001b[0m \u001b[0mcv2\u001b[0m\u001b[1;33m.\u001b[0m\u001b[0mimread\u001b[0m\u001b[1;33m(\u001b[0m\u001b[0mimage_file\u001b[0m\u001b[1;33m)\u001b[0m\u001b[1;33m\u001b[0m\u001b[1;33m\u001b[0m\u001b[0m\n\u001b[0;32m     17\u001b[0m         \u001b[1;31m# 그레이스케일로 변환\u001b[0m\u001b[1;33m\u001b[0m\u001b[1;33m\u001b[0m\u001b[1;33m\u001b[0m\u001b[0m\n\u001b[1;32m---> 18\u001b[1;33m     \u001b[0mimage_gs\u001b[0m \u001b[1;33m=\u001b[0m \u001b[0mcv2\u001b[0m\u001b[1;33m.\u001b[0m\u001b[0mcvtColor\u001b[0m\u001b[1;33m(\u001b[0m\u001b[0mimage\u001b[0m\u001b[1;33m,\u001b[0m \u001b[0mcv2\u001b[0m\u001b[1;33m.\u001b[0m\u001b[0mCOLOR_BGR2GRAY\u001b[0m\u001b[1;33m)\u001b[0m\u001b[1;33m\u001b[0m\u001b[1;33m\u001b[0m\u001b[0m\n\u001b[0m\u001b[0;32m     19\u001b[0m         \u001b[1;31m# 얼굴 인식 특징 파일 읽고\u001b[0m\u001b[1;33m\u001b[0m\u001b[1;33m\u001b[0m\u001b[1;33m\u001b[0m\u001b[0m\n\u001b[0;32m     20\u001b[0m     \u001b[0mcascade\u001b[0m \u001b[1;33m=\u001b[0m \u001b[0mcv2\u001b[0m\u001b[1;33m.\u001b[0m\u001b[0mCascadeClassifier\u001b[0m\u001b[1;33m(\u001b[0m\u001b[0mcascade_file\u001b[0m\u001b[1;33m)\u001b[0m\u001b[1;33m\u001b[0m\u001b[1;33m\u001b[0m\u001b[0m\n",
      "\u001b[1;31merror\u001b[0m: OpenCV(4.2.0) C:\\projects\\opencv-python\\opencv\\modules\\imgproc\\src\\color.cpp:182: error: (-215:Assertion failed) !_src.empty() in function 'cv::cvtColor'\n"
     ]
    }
   ],
   "source": [
    "import cv2\n",
    "import sys\n",
    "import os\n",
    "\n",
    "# os.listdir()을 이용하여 stars디렉토리안에 있는 1~577의 모든 폴더들의 이름을\n",
    "# ass라는 리스트로 저장하는 구문\n",
    "ass = os.listdir(\"./star\")\n",
    "\n",
    "\n",
    "for b in range(1,500):\n",
    "    # 변수 b를 format해서 image_file에 string으로 디렉토리 선언\n",
    "    image_file = \"D:\\\\junghyewon\\\\R\\\\star\\\\3\\\\{b}.jpg\".format(b=b)\n",
    "        # 캐스케이드 파일의 경로 지정\n",
    "    cascade_file = \"C:/ProgramData/anaconda3/Lib/site-packages/cv2/data/haarcascade_frontalface_alt.xml\"\n",
    "        # 이미지 읽고\n",
    "    image = cv2.imread(image_file)\n",
    "        # 그레이스케일로 변환\n",
    "    image_gs = cv2.cvtColor(image, cv2.COLOR_BGR2GRAY)\n",
    "        # 얼굴 인식 특징 파일 읽고\n",
    "    cascade = cv2.CascadeClassifier(cascade_file)\n",
    "        # 얼굴 인식 부분\n",
    "    face_list = cascade.detectMultiScale(image_gs,\n",
    "        scaleFactor=1.1,\n",
    "        minNeighbors=1,\n",
    "        minSize=(50,50))\n",
    "        \n",
    "        # if문으로 해당 디렉토리가 없으면 생성하는 구문\n",
    "        # output저장용 디렉토리\n",
    "    if not(os.path.isdir(\"./output_test21\".format(b))):\n",
    "        os.makedirs(os.path.join(\"./output_test21\".format(b)))\n",
    "            \n",
    "    if len(face_list) > 0:\n",
    "        for face in face_list:\n",
    "            # 얼굴 인식한 섹터에서 좌표, 너비, 높이를 x,y,w,h 변수에 저장\n",
    "            x,y,w,h = face\n",
    "            # 얼굴인식한 좌표를 활용하여 사진 자르기\n",
    "            cropped = image_gs[y : y+h, x: x+w]\n",
    "            # 저장할 이미지파일 디렉토리를 filepath변수에 저장\n",
    "            filepath = os.path.join(\"./output_test21/{}.jpg\".format(b))\n",
    "            # 실제로 저장이 되는 구문\n",
    "            cv2.imwrite(filepath, cropped)"
   ]
  },
  {
   "cell_type": "code",
   "execution_count": null,
   "metadata": {},
   "outputs": [],
   "source": []
  }
 ],
 "metadata": {
  "kernelspec": {
   "display_name": "Python 3",
   "language": "python",
   "name": "python3"
  },
  "language_info": {
   "codemirror_mode": {
    "name": "ipython",
    "version": 3
   },
   "file_extension": ".py",
   "mimetype": "text/x-python",
   "name": "python",
   "nbconvert_exporter": "python",
   "pygments_lexer": "ipython3",
   "version": "3.7.6"
  }
 },
 "nbformat": 4,
 "nbformat_minor": 4
}
